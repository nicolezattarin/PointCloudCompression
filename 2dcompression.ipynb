{
 "cells": [
  {
   "cell_type": "code",
   "execution_count": 3,
   "metadata": {},
   "outputs": [],
   "source": [
    "import numpy as np\n",
    "import matplotlib.pyplot as plt\n",
    "import seaborn as sns\n",
    "import os\n",
    "import open3d as o3d\n",
    "from pyntcloud import PyntCloud\n",
    "import glob\n",
    "import plyfile as ply\n",
    "from tqdm import tqdm\n",
    "from utils import *"
   ]
  },
  {
   "cell_type": "code",
   "execution_count": 4,
   "metadata": {},
   "outputs": [],
   "source": [
    "# take all top lidars and convert them into images\n",
    "main_dir = \"dataset-downloader-kit/CV/dataset/Town01_Opt_ClearSunset/LIDAR_TOP\"\n",
    "N_point_clouds = 1\n",
    "\n",
    "# get all the files in the directory\n",
    "files = glob.glob(main_dir + \"/*.ply\")[:N_point_clouds]"
   ]
  },
  {
   "cell_type": "code",
   "execution_count": 8,
   "metadata": {},
   "outputs": [
    {
     "name": "stdout",
     "output_type": "stream",
     "text": [
      "Processing pixel size:  (1, 1)\n"
     ]
    },
    {
     "name": "stderr",
     "output_type": "stream",
     "text": [
      "  0%|          | 0/1 [00:00<?, ?it/s]"
     ]
    },
    {
     "name": "stdout",
     "output_type": "stream",
     "text": [
      "file name:  dataset-downloader-kit/CV/dataset/Town01_Opt_ClearSunset/LIDAR_TOP/Town01_Opt_ClearSunset_1022095815687329167.ply\n"
     ]
    }
   ],
   "source": [
    "# pixel sizes on which we want to compress the point cloud (in degrees)\n",
    "pixel_sizes = [(1,1), (2,2), (5,5)]\n",
    "\n",
    "# create the corresponding folders\n",
    "main_out_dir = \"2DRepresentation\"\n",
    "out_dirs = [os.path.join(main_out_dir, str(pixel_size[0]) + \"_\" + str(pixel_size[1])) for pixel_size in pixel_sizes]\n",
    "for out_dir in out_dirs:\n",
    "    if not os.path.exists(out_dir):\n",
    "        os.makedirs(out_dir)\n",
    "    \n",
    "all_2d_images = []\n",
    "for ps in pixel_sizes:\n",
    "    print (\"Processing pixel size: \", ps)\n",
    "    for f in tqdm(files):\n",
    "        # image name \n",
    "        image_name = f.split(\"/\")[-1].split(\".\")[0]\n",
    "\n",
    "        im = get_images (\n",
    "            path=f,\n",
    "            theta_range=(-np.pi/4, np.pi/4), \n",
    "            phi_range=(0, 2*np.pi),\n",
    "            pixel_size=ps,\n",
    "            )\n",
    "\n",
    "        # load the point cloud\n",
    "        all_2d_images.append(im)\n"
   ]
  },
  {
   "cell_type": "code",
   "execution_count": null,
   "metadata": {},
   "outputs": [],
   "source": []
  }
 ],
 "metadata": {
  "kernelspec": {
   "display_name": "3d",
   "language": "python",
   "name": "3d"
  },
  "language_info": {
   "codemirror_mode": {
    "name": "ipython",
    "version": 3
   },
   "file_extension": ".py",
   "mimetype": "text/x-python",
   "name": "python",
   "nbconvert_exporter": "python",
   "pygments_lexer": "ipython3",
   "version": "3.9.13"
  },
  "orig_nbformat": 4,
  "vscode": {
   "interpreter": {
    "hash": "e47b1a34c05c1e3b83a62d7885c9d1b5ef8a0522d3be0182d0a008ec409b2b3d"
   }
  }
 },
 "nbformat": 4,
 "nbformat_minor": 2
}
