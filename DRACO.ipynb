{
  "cells": [
    {
      "cell_type": "code",
      "execution_count": 10,
      "metadata": {
        "id": "0FJcJ5v1bVWN"
      },
      "outputs": [],
      "source": [
        "import numpy as np\n",
        "import matplotlib.pyplot as plt\n",
        "import os\n",
        "import glob\n",
        "from pyntcloud import PyntCloud\n",
        "import plyfile as ply\n",
        "import sys"
      ]
    },
    {
      "cell_type": "code",
      "execution_count": 2,
      "metadata": {
        "colab": {
          "base_uri": "https://localhost:8080/"
        },
        "id": "44qqne7Ub3TL",
        "outputId": "119af530-0129-4032-8ae0-b456f99f6bc1"
      },
      "outputs": [],
      "source": [
        "import DracoPy"
      ]
    },
    {
      "cell_type": "code",
      "execution_count": 69,
      "metadata": {},
      "outputs": [],
      "source": [
        "import open3d as o3d\n",
        "from tqdm import tqdm\n",
        "\n",
        "def combine (\n",
        "    main_dir, \n",
        "    Nfiles=100,\n",
        "    outdir='dataset_final',\n",
        "    ):\n",
        "    import glob \n",
        "    # find all scan codes\n",
        "    left_lidar_codes = glob.glob(os.path.join(main_dir, 'LIDAR_FRONT_LEFT', '*.ply'))\n",
        "    left_lidar_codes = [f.split('/')[-1].split('.')[0] for f in left_lidar_codes]\n",
        "    left_lidar_codes.sort()\n",
        "    print (f\"Number of left lidar codes: {len(left_lidar_codes)}\")\n",
        "\n",
        "    right_lidar_codes = glob.glob(os.path.join(main_dir, 'LIDAR_FRONT_RIGHT', '*.ply'))\n",
        "    right_lidar_codes = [f.split('/')[-1].split('.')[0] for f in right_lidar_codes]\n",
        "    right_lidar_codes.sort()\n",
        "    print (f\"Number of left lidar codes: {len(left_lidar_codes)}\")\n",
        "\n",
        "    top_lidar_codes = glob.glob(os.path.join(main_dir, 'LIDAR_TOP', '*.ply'))\n",
        "    top_lidar_codes = [f.split('/')[-1].split('.')[0] for f in top_lidar_codes]\n",
        "    top_lidar_codes.sort()\n",
        "    print (f\"Number of left lidar codes: {len(left_lidar_codes)}\")\n",
        "\n",
        "    # find intersection of scan code\n",
        "    print (\"Finding intersection of scan codes\")\n",
        "    scan_codes = set(left_lidar_codes).intersection(set(right_lidar_codes)).intersection(set(top_lidar_codes))\n",
        "    scan_codes = list(scan_codes)\n",
        "    scan_codes.sort()\n",
        "    scan_codes = scan_codes[:Nfiles]\n",
        "    print (f\"Number of scan codes: {len(scan_codes)}\")\n",
        "\n",
        "\n",
        "    # combine lidar data\n",
        "    all_lidars = ['LIDAR_FRONT_LEFT', 'LIDAR_FRONT_RIGHT', 'LIDAR_TOP']\n",
        "    outdir = os.path.join(main_dir, outdir)\n",
        "    if not os.path.exists(outdir):\n",
        "        os.makedirs(outdir)\n",
        "\n",
        "    # save combined point clouds and labels\n",
        "    for code in tqdm(scan_codes):\n",
        "        pcd_combined = o3d.geometry.PointCloud() \n",
        "        labels = []\n",
        "        for lidar in all_lidars:\n",
        "            file = os.path.join(main_dir, lidar,  code + '.ply')\n",
        "            # load labels, i.e the  PlyProperty('ObjTag', 'uchar')), fourth property of the ply file\n",
        "            plydata = ply.PlyData.read(file)\n",
        "            labels += list(np.array(plydata.elements[0].data['ObjTag']))\n",
        "            \n",
        "            # load point clouds\n",
        "            pc = o3d.io.read_point_cloud(file, format='ply')\n",
        "            pcd_combined += pc\n",
        "\n",
        "        \n",
        "\n",
        "        # get labels\n",
        "        labels = np.array(labels)\n",
        "        #save labels\n",
        "        # np.save(os.path.join(outdir, code + '_labels.npy'), labels)\n",
        "        o3d.io.write_point_cloud(os.path.join(outdir, code + '.ply'), pcd_combined)\n",
        "\n",
        "        # read again the file with plyfile and add the labels as a property\n",
        "        plydata = ply.PlyData.read(os.path.join(outdir, code + '.ply'))\n",
        "\n",
        "        # add the labels as a property\n",
        "        x, y, z = plydata.elements[0].data['x'], plydata.elements[0].data['y'], plydata.elements[0].data['z']\n",
        "        element = ply.PlyElement.describe(np.array(list(zip(x, y, z, labels)), dtype=[('x', 'f4'), ('y', 'f4'), ('z', 'f4'), ('ObjTag', 'u1')]), 'vertex')\n",
        "        plydata.elements = [element]\n",
        "        plydata.write(os.path.join(outdir, code + '.ply'))\n",
        "        "
      ]
    },
    {
      "cell_type": "code",
      "execution_count": 70,
      "metadata": {},
      "outputs": [
        {
          "name": "stdout",
          "output_type": "stream",
          "text": [
            "Number of left lidar codes: 1634\n",
            "Number of left lidar codes: 1634\n",
            "Number of left lidar codes: 1634\n",
            "Finding intersection of scan codes\n",
            "Number of scan codes: 100\n"
          ]
        },
        {
          "name": "stderr",
          "output_type": "stream",
          "text": [
            "100%|██████████| 100/100 [01:30<00:00,  1.10it/s]\n"
          ]
        }
      ],
      "source": [
        "#  create the final dataset \n",
        "\n",
        "main_dir = 'dataset-downloader-kit/CV/dataset/Town01_Opt_ClearSunset'\n",
        "combine(main_dir, Nfiles=100, outdir='dataset_final')\n",
        "\n"
      ]
    },
    {
      "cell_type": "code",
      "execution_count": 72,
      "metadata": {},
      "outputs": [
        {
          "data": {
            "text/plain": [
              "memmap([(13.939179 , 1.3939118e+01,  3.4759111, 0),\n",
              "        (13.976289 , 1.4060769e+01,  3.4957232, 0),\n",
              "        (14.013828 , 1.4183835e+01,  3.5157988, 0), ...,\n",
              "        (-2.7477734, 3.3139646e-02, -1.5865506, 8),\n",
              "        (-2.7478905, 2.2094727e-02, -1.5865506, 8),\n",
              "        (-2.7479687, 1.1049804e-02, -1.5865506, 8)],\n",
              "       dtype=[('x', '<f4'), ('y', '<f4'), ('z', '<f4'), ('ObjTag', 'u1')])"
            ]
          },
          "execution_count": 72,
          "metadata": {},
          "output_type": "execute_result"
        }
      ],
      "source": [
        "# test \n",
        "file = 'dataset-downloader-kit/CV/dataset/Town01_Opt_ClearSunset/dataset_final/Town01_Opt_ClearSunset_149552537472963948.ply'\n",
        "file = ply.PlyData.read(file)\n",
        "file.elements[0].data"
      ]
    },
    {
      "cell_type": "code",
      "execution_count": 6,
      "metadata": {
        "id": "mfj-LKRLcAj9"
      },
      "outputs": [],
      "source": [
        "import shutil\n",
        "from glob import glob\n",
        "import pandas as pd"
      ]
    },
    {
      "cell_type": "markdown",
      "metadata": {
        "id": "Thojbe9dcjdz"
      },
      "source": [
        "Draco compression over the whole merged directory"
      ]
    },
    {
      "cell_type": "code",
      "execution_count": 13,
      "metadata": {},
      "outputs": [
        {
          "ename": "TypeError",
          "evalue": "'module' object is not callable",
          "output_type": "error",
          "traceback": [
            "\u001b[0;31m---------------------------------------------------------------------------\u001b[0m",
            "\u001b[0;31mTypeError\u001b[0m                                 Traceback (most recent call last)",
            "\u001b[1;32m/Users/nicolez/Documents/GitHub/PointCloudCompression/DRACO.ipynb Cell 8\u001b[0m in \u001b[0;36m<cell line: 5>\u001b[0;34m()\u001b[0m\n\u001b[1;32m      <a href='vscode-notebook-cell:/Users/nicolez/Documents/GitHub/PointCloudCompression/DRACO.ipynb#X22sZmlsZQ%3D%3D?line=1'>2</a>\u001b[0m \u001b[39mimport\u001b[39;00m \u001b[39mplyfile\u001b[39;00m\n\u001b[1;32m      <a href='vscode-notebook-cell:/Users/nicolez/Documents/GitHub/PointCloudCompression/DRACO.ipynb#X22sZmlsZQ%3D%3D?line=3'>4</a>\u001b[0m path_to_combined_data \u001b[39m=\u001b[39m \u001b[39m'\u001b[39m\u001b[39mdataset-downloader-kit/CV/dataset/Town01_Opt_ClearSunset/dataset_final\u001b[39m\u001b[39m'\u001b[39m\n\u001b[0;32m----> <a href='vscode-notebook-cell:/Users/nicolez/Documents/GitHub/PointCloudCompression/DRACO.ipynb#X22sZmlsZQ%3D%3D?line=4'>5</a>\u001b[0m all_pc \u001b[39m=\u001b[39m glob(os\u001b[39m.\u001b[39;49mpath\u001b[39m.\u001b[39;49mjoin(path_to_combined_data, \u001b[39m'\u001b[39;49m\u001b[39m*.ply\u001b[39;49m\u001b[39m'\u001b[39;49m))\n\u001b[1;32m      <a href='vscode-notebook-cell:/Users/nicolez/Documents/GitHub/PointCloudCompression/DRACO.ipynb#X22sZmlsZQ%3D%3D?line=7'>8</a>\u001b[0m draco_unlabeled \u001b[39m=\u001b[39m pd\u001b[39m.\u001b[39mDataFrame(columns\u001b[39m=\u001b[39m[\u001b[39m'\u001b[39m\u001b[39mfilename\u001b[39m\u001b[39m'\u001b[39m, \u001b[39m'\u001b[39m\u001b[39moriginal_size\u001b[39m\u001b[39m'\u001b[39m, \u001b[39m'\u001b[39m\u001b[39moriginal_size_bytes\u001b[39m\u001b[39m'\u001b[39m, \n\u001b[1;32m      <a href='vscode-notebook-cell:/Users/nicolez/Documents/GitHub/PointCloudCompression/DRACO.ipynb#X22sZmlsZQ%3D%3D?line=8'>9</a>\u001b[0m                                         \u001b[39m'\u001b[39m\u001b[39mencoded_size\u001b[39m\u001b[39m'\u001b[39m, \u001b[39m'\u001b[39m\u001b[39mencoded_size_bytes\u001b[39m\u001b[39m'\u001b[39m, \n\u001b[1;32m     <a href='vscode-notebook-cell:/Users/nicolez/Documents/GitHub/PointCloudCompression/DRACO.ipynb#X22sZmlsZQ%3D%3D?line=9'>10</a>\u001b[0m                                         \u001b[39m'\u001b[39m\u001b[39mcompression_ratio\u001b[39m\u001b[39m'\u001b[39m, \u001b[39m'\u001b[39m\u001b[39mcompression_ratio_bytes\u001b[39m\u001b[39m'\u001b[39m, \n\u001b[1;32m     <a href='vscode-notebook-cell:/Users/nicolez/Documents/GitHub/PointCloudCompression/DRACO.ipynb#X22sZmlsZQ%3D%3D?line=10'>11</a>\u001b[0m                                         \u001b[39m'\u001b[39m\u001b[39mencoding_decoding_time\u001b[39m\u001b[39m'\u001b[39m, \u001b[39m'\u001b[39m\u001b[39mlost_points\u001b[39m\u001b[39m'\u001b[39m])\n",
            "\u001b[0;31mTypeError\u001b[0m: 'module' object is not callable"
          ]
        }
      ],
      "source": [
        "import time\n",
        "import plyfile\n",
        "\n",
        "path_to_combined_data = 'dataset-downloader-kit/CV/dataset/Town01_Opt_ClearSunset/dataset_final'\n",
        "all_pc = glob(os.path.join(path_to_combined_data, '*.ply'))\n",
        "\n",
        "\n",
        "draco_unlabeled = pd.DataFrame(columns=['filename', 'original_size', 'original_size_bytes', \n",
        "                                        'encoded_size', 'encoded_size_bytes', \n",
        "                                        'compression_ratio', 'compression_ratio_bytes', \n",
        "                                        'encoding_decoding_time', 'lost_points'])\n"
      ]
    },
    {
      "cell_type": "code",
      "execution_count": 17,
      "metadata": {
        "colab": {
          "base_uri": "https://localhost:8080/"
        },
        "id": "hG3OTgxWciHS",
        "outputId": "5f476f5b-30e8-4f95-9b68-f91ea3a76e22"
      },
      "outputs": [
        {
          "ename": "KeyboardInterrupt",
          "evalue": "",
          "output_type": "error",
          "traceback": [
            "\u001b[0;31m---------------------------------------------------------------------------\u001b[0m",
            "\u001b[0;31mKeyboardInterrupt\u001b[0m                         Traceback (most recent call last)",
            "\u001b[1;32m/Users/nicolez/Documents/GitHub/PointCloudCompression/DRACO.ipynb Cell 9\u001b[0m in \u001b[0;36m<cell line: 1>\u001b[0;34m()\u001b[0m\n\u001b[1;32m     <a href='vscode-notebook-cell:/Users/nicolez/Documents/GitHub/PointCloudCompression/DRACO.ipynb#X11sZmlsZQ%3D%3D?line=12'>13</a>\u001b[0m original_size_bytes \u001b[39m=\u001b[39m sys\u001b[39m.\u001b[39mgetsizeof(points)\n\u001b[1;32m     <a href='vscode-notebook-cell:/Users/nicolez/Documents/GitHub/PointCloudCompression/DRACO.ipynb#X11sZmlsZQ%3D%3D?line=14'>15</a>\u001b[0m \u001b[39m# Encode the point cloud\u001b[39;00m\n\u001b[0;32m---> <a href='vscode-notebook-cell:/Users/nicolez/Documents/GitHub/PointCloudCompression/DRACO.ipynb#X11sZmlsZQ%3D%3D?line=15'>16</a>\u001b[0m encoded_data \u001b[39m=\u001b[39m DracoPy\u001b[39m.\u001b[39;49mencode(points)\n\u001b[1;32m     <a href='vscode-notebook-cell:/Users/nicolez/Documents/GitHub/PointCloudCompression/DRACO.ipynb#X11sZmlsZQ%3D%3D?line=17'>18</a>\u001b[0m \u001b[39m# Measure the size of the encoded data\u001b[39;00m\n\u001b[1;32m     <a href='vscode-notebook-cell:/Users/nicolez/Documents/GitHub/PointCloudCompression/DRACO.ipynb#X11sZmlsZQ%3D%3D?line=18'>19</a>\u001b[0m encoded_size \u001b[39m=\u001b[39m \u001b[39mlen\u001b[39m(encoded_data)\n",
            "\u001b[0;31mKeyboardInterrupt\u001b[0m: "
          ]
        }
      ],
      "source": [
        "\n",
        "for pc in all_pc:\n",
        "\n",
        "    # Start the timer\n",
        "    start = time.time()\n",
        "\n",
        "    # Read the ply file\n",
        "    plydata = plyfile.PlyData.read(pc)\n",
        "    # Extract the XYZ coordinates of the points\n",
        "    points = np.vstack([plydata['vertex']['x'], plydata['vertex']['y'], plydata['vertex']['z']]).T\n",
        "\n",
        "    # Measure the number of points in the original point cloud\n",
        "    original_size = len(points)\n",
        "    original_size_bytes = sys.getsizeof(points)\n",
        "\n",
        "    # Encode the point cloud\n",
        "    encoded_data = DracoPy.encode(points)\n",
        "\n",
        "    # Measure the size of the encoded data\n",
        "    encoded_size = len(encoded_data)\n",
        "    encoded_size_bytes = sys.getsizeof(encoded_data)\n",
        "\n",
        "\n",
        "    # Decode the encoded data\n",
        "    decoded_points = DracoPy.decode(encoded_data)\n",
        "    # End the timer\n",
        "    end = time.time()\n",
        "\n",
        "    # fiond nearest points to the decoded points in the original point cloud\n",
        "    lost_points = len(points) - len(decoded_points.points)\n",
        "\n",
        "    # print(\"Mean Point Distance Error: {:.2f} m\".format(mpde))\n",
        "    # Calculate the compression ratio\n",
        "    encoded_compression_ratio = 1 - (encoded_size_bytes / original_size_bytes)\n",
        "\n",
        "    # print(\"Compression ratio (encoded): {:.2f} % \".format(encoded_compression_ratio * 100))\n",
        "\n",
        "    # Print the total time taken\n",
        "    # print(\"Time taken for all point clouds: {:.2f} seconds\".format(end - start))\n",
        "\n",
        "    # Save the results\n",
        "    draco_unlabeled = draco_unlabeled.append({'filename': pc, \n",
        "                                            'original_size': original_size, \n",
        "                                            'original_size_bytes': original_size_bytes, \n",
        "                                            'encoded_size': encoded_size, \n",
        "                                            'encoded_size_bytes': encoded_size_bytes, \n",
        "                                            'compression_ratio': encoded_compression_ratio, \n",
        "                                            'compression_ratio_bytes': encoded_compression_ratio, \n",
        "                                            'encoding_decoding_time': end - start, \n",
        "                                            'lost_points': lost_points,\n",
        "                                            }, \n",
        "                                            ignore_index=True)\n"
      ]
    },
    {
      "cell_type": "code",
      "execution_count": 104,
      "metadata": {},
      "outputs": [
        {
          "name": "stdout",
          "output_type": "stream",
          "text": [
            " Average compression ratio: 91.07 % pm 0.47 %\n",
            " Average compression ratio (bytes): 91.07 % pm 0.47 %\n",
            " Average encoding-decoding time: 0.41 seconds pm 0.06 seconds\n",
            " Average lost points: 1836.16 points pm 1584.36 points\n"
          ]
        }
      ],
      "source": [
        "# plot some results\n",
        "import matplotlib.pyplot as plt\n",
        "import seaborn as sns\n",
        "sns.set_theme(style='whitegrid', font_scale=1.5)\n",
        "\n",
        "# aggregate the results\n",
        "stats = pd.DataFrame(columns=draco_unlabeled.columns)\n",
        "stats.loc['avg'] = draco_unlabeled.mean()\n",
        "stats.loc['std'] = draco_unlabeled.std()\n",
        "\n",
        "print (f\" Average compression ratio: {stats.loc['avg', 'compression_ratio'] * 100:.2f} % pm {stats.loc['std', 'compression_ratio'] * 100:.2f} %\")\n",
        "print (f\" Average compression ratio (bytes): {stats.loc['avg', 'compression_ratio_bytes'] * 100:.2f} % pm {stats.loc['std', 'compression_ratio_bytes'] * 100:.2f} %\")\n",
        "print (f\" Average encoding-decoding time: {stats.loc['avg', 'encoding_decoding_time']:.2f} seconds pm {stats.loc['std', 'encoding_decoding_time']:.2f} seconds\")\n",
        "print (f\" Average lost points: {stats.loc['avg', 'lost_points']:.2f} points pm {stats.loc['std', 'lost_points']:.2f} points\")\n"
      ]
    },
    {
      "cell_type": "code",
      "execution_count": 111,
      "metadata": {},
      "outputs": [
        {
          "data": {
            "text/plain": [
              "<matplotlib.legend.Legend at 0x13f610730>"
            ]
          },
          "execution_count": 111,
          "metadata": {},
          "output_type": "execute_result"
        },
        {
          "data": {
            "image/png": "[encoded data removed]",
            "text/plain": [
              "<Figure size 1440x432 with 2 Axes>"
            ]
          },
          "metadata": {},
          "output_type": "display_data"
        }
      ],
      "source": [
        "# plot \n",
        "sns.set_theme(style='whitegrid', font_scale=1.5, palette='Dark2')\n",
        "fig, ax = plt.subplots(1, 2, figsize=(20, 6))\n",
        "sns.histplot(data=draco_unlabeled, x='compression_ratio', ax=ax[0], bins=20)\n",
        "sns.histplot(data=draco_unlabeled, x='encoding_decoding_time', ax=ax[1], bins=20) \n",
        "\n",
        "# add mean and std\n",
        "lw = 4\n",
        "ax[0].axvline(stats.loc['avg', 'compression_ratio'], color='black', linestyle='--', label='mean', linewidth=lw)\n",
        "ax[0].axvline(stats.loc['avg', 'compression_ratio'] + stats.loc['std', 'compression_ratio'], color='black', linestyle=':', label='std', linewidth=lw)\n",
        "ax[0].axvline(stats.loc['avg', 'compression_ratio'] - stats.loc['std', 'compression_ratio'], color='black', linestyle=':', linewidth=lw)\n",
        "ax[0].legend()\n",
        "\n",
        "ax[1].axvline(stats.loc['avg', 'encoding_decoding_time'], color='black', linestyle='--', label='mean', linewidth=lw)\n",
        "ax[1].axvline(stats.loc['avg', 'encoding_decoding_time'] + stats.loc['std', 'encoding_decoding_time'], color='black', linestyle=':', label='std', linewidth=lw)\n",
        "ax[1].axvline(stats.loc['avg', 'encoding_decoding_time'] - stats.loc['std', 'encoding_decoding_time'], color='black', linestyle=':', linewidth=lw)\n",
        "ax[1].legend()\n",
        "\n"
      ]
    },
    {
      "cell_type": "markdown",
      "metadata": {
        "id": "_W6MuAWudfu8"
      },
      "source": [
        "Remove header and metadata"
      ]
    },
    {
      "cell_type": "code",
      "execution_count": 46,
      "metadata": {
        "colab": {
          "base_uri": "https://localhost:8080/"
        },
        "id": "-Ni_jkSIdf7m",
        "outputId": "010912c8-fc15-46ef-b5da-deca81b0acc0"
      },
      "outputs": [],
      "source": [
        "def draco_labeled (pc_file):\n",
        "    # Read the ply file\n",
        "    plydata = plyfile.PlyData.read(pc_file)\n",
        "\n",
        "    # Extract the XYZ coordinates of the points\n",
        "    points = np.column_stack((plydata['vertex']['x'], plydata['vertex']['y'], plydata['vertex']['z']))\n",
        "    # Extract the labels of the points\n",
        "    labels = plydata['vertex']['ObjTag']\n",
        "    print (f\"Number of labels: {len(np.unique(labels))}\")\n",
        "\n",
        "    # iterate over the labels and encode each label separately\n",
        "\n",
        "    results_PC = pd.DataFrame(columns=['label', 'original_size', 'original_size_bytes', 'encoded_size', \n",
        "                                        'encoded_size_bytes', 'compression_ratio', 'compression_ratio_bytes', \n",
        "                                        'encoding_decoding_time', 'lost_points']) \n",
        "\n",
        "    for label in np.unique(labels):\n",
        "        start = time.time()\n",
        "        mask = labels == label\n",
        "\n",
        "        pc_label = points[mask]\n",
        "        # print (f\"Number of points in label {label}: {len(pc_label)}\") \n",
        "\n",
        "        # Encode the point cloud\n",
        "        encoded_data = DracoPy.encode(pc_label)\n",
        "\n",
        "        # Measure the size of the encoded data\n",
        "        encoded_size = len(encoded_data)\n",
        "        encoded_size_bytes = sys.getsizeof(encoded_data)\n",
        "\n",
        "\n",
        "        # Measure the number of points in the original point cloud\n",
        "        original_size = len(points)\n",
        "        original_size_bytes = sys.getsizeof(points)\n",
        "\n",
        "        # Decode the encoded data\n",
        "        decoded_points = DracoPy.decode(encoded_data)\n",
        "        # End the timer\n",
        "        end = time.time()\n",
        "\n",
        "        # Calculate the compression ratio\n",
        "        compression_ratio = 1 - (encoded_size / original_size)\n",
        "        compression_ratio_bytes = 1 - (encoded_size_bytes / original_size_bytes)\n",
        "\n",
        "        # Calculate the number of lost points\n",
        "        lost_points = len(points) - len(decoded_points.points)\n",
        "        results_PC = results_PC.append({'label': label,     \n",
        "                                        'original_size': original_size,         \n",
        "                                        'original_size_bytes': original_size_bytes,\n",
        "                                        'encoded_size': encoded_size,\n",
        "                                        'encoded_size_bytes': encoded_size_bytes,\n",
        "                                        'compression_ratio': compression_ratio,\n",
        "                                        'compression_ratio_bytes': compression_ratio_bytes,\n",
        "                                        'encoding_decoding_time': end - start,\n",
        "                                        'lost_points': lost_points,\n",
        "                                        },\n",
        "                                        ignore_index=True)\n",
        "\n",
        "    # save the results\n",
        "    img_name = pc_file.split('/')[-1].split('.')[0]\n",
        "    res_dir = 'results'\n",
        "    \n",
        "    results_PC.to_csv(os.path.join(res_dir, img_name+'draco_labeled.csv'), index=False)\n",
        "\n",
        "    return results_PC\n",
        "        "
      ]
    },
    {
      "cell_type": "code",
      "execution_count": null,
      "metadata": {},
      "outputs": [
        {
          "name": "stdout",
          "output_type": "stream",
          "text": [
            "Number of labels: 20\n",
            "Number of points in label 0: 529\n",
            "Number of points in label 1: 28256\n",
            "Number of points in label 2: 10418\n",
            "Number of points in label 5: 2187\n",
            "Number of points in label 7: 99118\n",
            "Number of points in label 8: 54167\n",
            "Number of points in label 9: 14048\n",
            "Number of points in label 10: 46884\n",
            "Number of points in label 11: 278\n",
            "Number of points in label 12: 29\n",
            "Number of points in label 17: 37\n",
            "Number of points in label 18: 21\n",
            "Number of points in label 19: 7988\n",
            "Number of points in label 20: 20\n",
            "Number of points in label 40: 4574\n",
            "Number of points in label 41: 693\n",
            "Number of points in label 100: 373\n",
            "Number of points in label 101: 37\n",
            "Number of points in label 104: 1429\n",
            "Number of points in label 105: 11\n",
            "Number of labels: 18\n",
            "Number of points in label 0: 42\n",
            "Number of points in label 1: 44611\n",
            "Number of points in label 2: 599\n",
            "Number of points in label 5: 918\n",
            "Number of points in label 7: 90241\n",
            "Number of points in label 8: 58270\n",
            "Number of points in label 9: 360\n",
            "Number of points in label 10: 46885\n",
            "Number of points in label 11: 11532\n",
            "Number of points in label 12: 4\n",
            "Number of points in label 17: 93\n",
            "Number of points in label 18: 24\n",
            "Number of points in label 19: 6997\n",
            "Number of points in label 20: 3841\n",
            "Number of points in label 40: 2652\n",
            "Number of points in label 100: 16363\n",
            "Number of points in label 103: 1149\n",
            "Number of points in label 105: 93\n",
            "Number of labels: 20\n",
            "Number of points in label 0: 5339\n",
            "Number of points in label 1: 16883\n",
            "Number of points in label 2: 1809\n",
            "Number of points in label 3: 28\n",
            "Number of points in label 5: 1343\n",
            "Number of points in label 7: 98860\n",
            "Number of points in label 8: 60103\n",
            "Number of points in label 9: 14621\n",
            "Number of points in label 10: 46885\n",
            "Number of points in label 11: 973\n",
            "Number of points in label 15: 2775\n",
            "Number of points in label 18: 238\n",
            "Number of points in label 19: 5629\n",
            "Number of points in label 20: 58\n",
            "Number of points in label 40: 9807\n",
            "Number of points in label 41: 596\n",
            "Number of points in label 100: 4353\n",
            "Number of points in label 101: 46\n",
            "Number of points in label 103: 280\n",
            "Number of points in label 105: 347\n",
            "Number of labels: 18\n",
            "Number of points in label 0: 17614\n",
            "Number of points in label 1: 28383\n",
            "Number of points in label 2: 4346\n",
            "Number of points in label 5: 963\n",
            "Number of points in label 7: 99633\n",
            "Number of points in label 8: 55748\n",
            "Number of points in label 9: 24469\n",
            "Number of points in label 10: 46885\n",
            "Number of points in label 11: 4319\n",
            "Number of points in label 18: 38\n",
            "Number of points in label 19: 77\n",
            "Number of points in label 20: 1835\n",
            "Number of points in label 40: 1255\n",
            "Number of points in label 41: 395\n",
            "Number of points in label 100: 2067\n",
            "Number of points in label 101: 234\n",
            "Number of points in label 103: 1\n",
            "Number of points in label 105: 265\n",
            "Number of labels: 21\n",
            "Number of points in label 0: 6487\n",
            "Number of points in label 1: 20949\n",
            "Number of points in label 2: 794\n",
            "Number of points in label 3: 5\n",
            "Number of points in label 5: 1554\n",
            "Number of points in label 7: 98382\n"
          ]
        },
        {
          "ename": "KeyboardInterrupt",
          "evalue": "",
          "output_type": "error",
          "traceback": [
            "\u001b[0;31m---------------------------------------------------------------------------\u001b[0m",
            "\u001b[0;31mKeyboardInterrupt\u001b[0m                         Traceback (most recent call last)",
            "\u001b[1;32m/Users/nicolez/Documents/GitHub/PointCloudCompression/DRACO.ipynb Cell 14\u001b[0m in \u001b[0;36m<cell line: 3>\u001b[0;34m()\u001b[0m\n\u001b[1;32m      <a href='vscode-notebook-cell:/Users/nicolez/Documents/GitHub/PointCloudCompression/DRACO.ipynb#X23sZmlsZQ%3D%3D?line=1'>2</a>\u001b[0m draco_labeled_res \u001b[39m=\u001b[39m \u001b[39mdict\u001b[39m()\n\u001b[1;32m      <a href='vscode-notebook-cell:/Users/nicolez/Documents/GitHub/PointCloudCompression/DRACO.ipynb#X23sZmlsZQ%3D%3D?line=2'>3</a>\u001b[0m \u001b[39mfor\u001b[39;00m file \u001b[39min\u001b[39;00m all_pc:\n\u001b[0;32m----> <a href='vscode-notebook-cell:/Users/nicolez/Documents/GitHub/PointCloudCompression/DRACO.ipynb#X23sZmlsZQ%3D%3D?line=3'>4</a>\u001b[0m     draco_labeled_res[file] \u001b[39m=\u001b[39m draco_labeled(file)\n",
            "\u001b[1;32m/Users/nicolez/Documents/GitHub/PointCloudCompression/DRACO.ipynb Cell 14\u001b[0m in \u001b[0;36mdraco_labeled\u001b[0;34m(pc_file)\u001b[0m\n\u001b[1;32m     <a href='vscode-notebook-cell:/Users/nicolez/Documents/GitHub/PointCloudCompression/DRACO.ipynb#X23sZmlsZQ%3D%3D?line=33'>34</a>\u001b[0m original_size_bytes \u001b[39m=\u001b[39m sys\u001b[39m.\u001b[39mgetsizeof(points)\n\u001b[1;32m     <a href='vscode-notebook-cell:/Users/nicolez/Documents/GitHub/PointCloudCompression/DRACO.ipynb#X23sZmlsZQ%3D%3D?line=35'>36</a>\u001b[0m \u001b[39m# Decode the encoded data\u001b[39;00m\n\u001b[0;32m---> <a href='vscode-notebook-cell:/Users/nicolez/Documents/GitHub/PointCloudCompression/DRACO.ipynb#X23sZmlsZQ%3D%3D?line=36'>37</a>\u001b[0m decoded_points \u001b[39m=\u001b[39m DracoPy\u001b[39m.\u001b[39;49mdecode(encoded_data)\n\u001b[1;32m     <a href='vscode-notebook-cell:/Users/nicolez/Documents/GitHub/PointCloudCompression/DRACO.ipynb#X23sZmlsZQ%3D%3D?line=37'>38</a>\u001b[0m \u001b[39m# End the timer\u001b[39;00m\n\u001b[1;32m     <a href='vscode-notebook-cell:/Users/nicolez/Documents/GitHub/PointCloudCompression/DRACO.ipynb#X23sZmlsZQ%3D%3D?line=38'>39</a>\u001b[0m end \u001b[39m=\u001b[39m time\u001b[39m.\u001b[39mtime()\n",
            "\u001b[0;31mKeyboardInterrupt\u001b[0m: "
          ]
        }
      ],
      "source": [
        "# go through all the files and save the results\n",
        "draco_labeled_res = dict()\n",
        "for file in all_pc:\n",
        "    draco_labeled_res[file] = draco_labeled(file)"
      ]
    },
    {
      "cell_type": "markdown",
      "metadata": {
        "id": "ojnxjhCScyDq"
      },
      "source": [
        "Draco compression over each single class"
      ]
    },
    {
      "cell_type": "code",
      "execution_count": 15,
      "metadata": {
        "colab": {
          "base_uri": "https://localhost:8080/"
        },
        "id": "LO6XlS_kc_Ue",
        "outputId": "6fa31401-2b70-479a-dcbb-98901715a12d"
      },
      "outputs": [
        {
          "name": "stdout",
          "output_type": "stream",
          "text": [
            "Compression ratio for class 0: 0.47106197106197106\n",
            "Mean Point Distance Error: 22.100370053042777\n",
            "Time taken for class 0: 0.01 seconds\n",
            "Compression ratio for class 1: 0.28135313531353134\n",
            "Mean Point Distance Error: 30.391186123269378\n",
            "Time taken for class 1: 0.00 seconds\n",
            "Compression ratio for class 2: 0.31684491978609625\n",
            "Mean Point Distance Error: 31.079287671962618\n",
            "Time taken for class 2: 0.00 seconds\n",
            "Compression ratio for class 5: 0.3018292682926829\n",
            "Mean Point Distance Error: 28.57726350301676\n",
            "Time taken for class 5: 0.00 seconds\n",
            "Compression ratio for class 7: 0.7988990949615021\n",
            "Mean Point Distance Error: 3.4598004459592757\n",
            "Time taken for class 7: 0.07 seconds\n",
            "Compression ratio for class 8: 0.4733169129720854\n",
            "Mean Point Distance Error: 7.43806509080998\n",
            "Time taken for class 8: 0.01 seconds\n",
            "Compression ratio for class 9: 0.3524975272007913\n",
            "Mean Point Distance Error: 46.620560090005775\n",
            "Time taken for class 9: 0.01 seconds\n",
            "Compression ratio for class 10: 0.6334261209750226\n",
            "Mean Point Distance Error: 0.09623156745365592\n",
            "Time taken for class 10: 0.03 seconds\n",
            "Compression ratio for class 11: 0.2\n",
            "Mean Point Distance Error: 36.12447025050871\n",
            "Time taken for class 11: 0.00 seconds\n",
            "Compression ratio for class 17: 0.44273127753303965\n",
            "Mean Point Distance Error: 5.137789172178946\n",
            "Time taken for class 17: 0.00 seconds\n",
            "Compression ratio for class 18: 0.1875\n",
            "Mean Point Distance Error: 21.3451198605714\n",
            "Time taken for class 18: 0.00 seconds\n",
            "Compression ratio for class 40: 0.27419354838709675\n",
            "Mean Point Distance Error: 19.614339168955365\n",
            "Time taken for class 40: 0.00 seconds\n",
            "Compression ratio for class 41: 0.04\n",
            "Mean Point Distance Error: 0.25722941769231966\n",
            "Time taken for class 41: 0.00 seconds\n",
            "Compression ratio for class 100: 0.742662945624775\n",
            "Mean Point Distance Error: 7.749037528085768\n",
            "Time taken for class 100: 0.02 seconds\n",
            "Time taken for all point clouds: 0.18 seconds\n",
            "Mean MPDE: 18.57\n",
            "Mean Compression Ratio: 0.39\n"
          ]
        }
      ],
      "source": [
        "# Start the timer\n",
        "start = time.time()\n",
        "\n",
        "compressed_clouds = {}\n",
        "\n",
        "# Read the ply file\n",
        "plydata = plyfile.PlyData.read(merged_file)\n",
        "# Extract the XYZ coordinates of the points\n",
        "points = np.column_stack((plydata['vertex']['x'], plydata['vertex']['y'], plydata['vertex']['z']))\n",
        "# Extract the labels of the points\n",
        "labels = plydata['vertex']['ObjTag']\n",
        "\n",
        "# Initialize variables to keep track of the total MPDE, compression ratio and the number of classes processed\n",
        "total_mpde = 0\n",
        "total_compression_ratio = 0\n",
        "num_classes = 0\n",
        "\n",
        "\n",
        "for label in np.unique(labels):\n",
        "    start_class = time.time()\n",
        "    # Get the points with the current label\n",
        "    points_label = points[labels == int(label)]\n",
        "    # Encode the point cloud\n",
        "    encoded_data = DracoPy.encode(points_label)\n",
        "    # Measure the size of the encoded data\n",
        "    encoded_size = len(encoded_data)\n",
        "    # Measure the size of the original data\n",
        "    original_size = len(points_label)\n",
        "    # Calculate the compression ratio\n",
        "    compression_ratio = original_size/encoded_size\n",
        "    print(f\"Compression ratio for class {label}: {compression_ratio}\")\n",
        "    # Add the current compression ratio to the total compression ratio\n",
        "    total_compression_ratio += compression_ratio\n",
        "    # Decode the encoded data\n",
        "    decoded_points = DracoPy.decode(encoded_data)\n",
        "    # Calculate the mean point distance error\n",
        "    mpde = np.mean(np.linalg.norm(points_label - decoded_points.points, axis=1))\n",
        "    print(f\"Mean Point Distance Error: {mpde}\")\n",
        "    # Add the current MPDE to the total MPDE\n",
        "    total_mpde += mpde\n",
        "    # Increase the number of classes processed\n",
        "    num_classes += 1\n",
        "    end_class = time.time()\n",
        "    print(\"Time taken for class {}: {:.2f} seconds\".format(label, end_class - start_class))\n",
        "\n",
        "# End the timer\n",
        "end = time.time()\n",
        "\n",
        "# Print the total time taken\n",
        "print(\"Time taken for all point clouds: {:.2f} seconds\".format(end - start))\n",
        "\n",
        "# Compute the mean MPDE and compression ratio\n",
        "mean_mpde = total_mpde / num_classes\n",
        "print(\"Mean MPDE: {:.2f}\".format(mean_mpde))\n",
        "\n",
        "mean_compression_ratio = total_compression_ratio / num_classes\n",
        "print(\"Mean Compression Ratio: {:.2f}\".format(mean_compression_ratio))"
      ]
    }
  ],
  "metadata": {
    "colab": {
      "provenance": []
    },
    "kernelspec": {
      "display_name": "3d",
      "language": "python",
      "name": "3d"
    },
    "language_info": {
      "codemirror_mode": {
        "name": "ipython",
        "version": 3
      },
      "file_extension": ".py",
      "mimetype": "text/x-python",
      "name": "python",
      "nbconvert_exporter": "python",
      "pygments_lexer": "ipython3",
      "version": "3.9.13"
    }
  },
  "nbformat": 4,
  "nbformat_minor": 0
}
